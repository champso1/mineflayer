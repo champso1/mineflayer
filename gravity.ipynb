{
 "cells": [
  {
   "cell_type": "code",
   "execution_count": 1,
   "metadata": {},
   "outputs": [],
   "source": [
    "#import libraries, start bot\n",
    "from javascript import require, On\n",
    "import numpy as np\n",
    "from matplotlib import pyplot as plt\n",
    "import time\n",
    "\n",
    "mineflayer = require('mineflayer')\n",
    "pathfinder = require('mineflayer-pathfinder')\n",
    "\n",
    "#create instance of the bot\n",
    "bot = mineflayer.createBot({\n",
    "    'host': 'localhost',\n",
    "    'username': 'Kevin'\n",
    "})\n",
    "\n",
    "#get the movement set for pathfinder\n",
    "bot.loadPlugin(pathfinder.pathfinder)\n",
    "mcData = require('minecraft-data')(bot.version)\n",
    "movements = pathfinder.Movements(bot, mcData)\n",
    "RANGE_GOAL = 1"
   ]
  },
  {
   "cell_type": "code",
   "execution_count": 2,
   "metadata": {},
   "outputs": [],
   "source": [
    "times = []\n",
    "time1 = 0.0\n",
    "time2 = 0.0\n",
    "\n",
    "@On(bot, 'forcedMove')\n",
    "def handleForcedMove(*args):\n",
    "    global time1\n",
    "    time1 = time.time()\n",
    "\n",
    "@On(bot, 'scoreUpdated')\n",
    "def handleScoreUpdate(scoreboard, updated, *args):\n",
    "    #dont care about what the actual item is, just need to know when it updates\n",
    "    global time2\n",
    "    time2 = time.time()\n",
    "    times.append(time2 - time1)\n",
    "\n"
   ]
  },
  {
   "cell_type": "code",
   "execution_count": 3,
   "metadata": {},
   "outputs": [],
   "source": [
    "for i in range(14, 40):\n",
    "    bot.chat(f'/tp 274 {i} 264 0 0')\n",
    "    time.sleep(3)\n",
    "    "
   ]
  },
  {
   "cell_type": "code",
   "execution_count": 17,
   "metadata": {},
   "outputs": [
    {
     "name": "stdout",
     "output_type": "stream",
     "text": [
      "[[0.90154724]\n",
      " [1.00304119]\n",
      " [0.81288622]\n",
      " [1.11664762]\n",
      " [1.214084  ]\n",
      " [1.32629871]\n",
      " [1.35354989]\n",
      " [1.43995262]\n",
      " [1.57379216]\n",
      " [1.56178661]\n",
      " [1.69150964]\n",
      " [1.82534936]\n",
      " [1.824074  ]\n",
      " [1.96289793]\n",
      " [2.10530406]\n",
      " [2.10801432]\n",
      " [2.10920251]\n",
      " [2.40628922]\n",
      " [2.40561912]\n",
      " [2.56957436]\n",
      " [2.40519462]\n",
      " [2.72523585]\n",
      " [2.72021362]\n",
      " [2.89339767]\n",
      " [2.89231414]\n",
      " [3.06763829]]\n"
     ]
    }
   ],
   "source": [
    "times = np.array(times) ** 2\n",
    "times = times.reshape(-1, 1)\n",
    "print(times)"
   ]
  },
  {
   "cell_type": "code",
   "execution_count": 19,
   "metadata": {},
   "outputs": [
    {
     "name": "stdout",
     "output_type": "stream",
     "text": [
      "0.986937296314295\n",
      "slope: [11.66070962]\n",
      "intercept: 0.0\n"
     ]
    }
   ],
   "source": [
    "from sklearn.linear_model import LinearRegression\n",
    "\n",
    "heights = list(np.arange(10, 36)) #10-40\n",
    "\n",
    "model = LinearRegression(fit_intercept=False)\n",
    "model.fit(times, heights)\n",
    "\n",
    "r_sq = model.score(times, heights)\n",
    "print(r_sq)\n",
    "print(f'slope: {model.coef_}')\n",
    "print(f'intercept: {model.intercept_}')"
   ]
  },
  {
   "cell_type": "code",
   "execution_count": 21,
   "metadata": {},
   "outputs": [
    {
     "data": {
      "image/png": "[encoded data removed]",
      "text/plain": [
       "<Figure size 640x480 with 1 Axes>"
      ]
     },
     "metadata": {},
     "output_type": "display_data"
    }
   ],
   "source": [
    "plt.plot(times, heights, 'ro')\n",
    "\n",
    "x = np.arange(1, 4)\n",
    "y = x * model.coef_[0]\n",
    "plt.plot(x, y)\n",
    "\n",
    "plt.show()"
   ]
  }
 ],
 "metadata": {
  "kernelspec": {
   "display_name": "Python 3",
   "language": "python",
   "name": "python3"
  },
  "language_info": {
   "codemirror_mode": {
    "name": "ipython",
    "version": 3
   },
   "file_extension": ".py",
   "mimetype": "text/x-python",
   "name": "python",
   "nbconvert_exporter": "python",
   "pygments_lexer": "ipython3",
   "version": "3.11.3"
  },
  "orig_nbformat": 4
 },
 "nbformat": 4,
 "nbformat_minor": 2
}
